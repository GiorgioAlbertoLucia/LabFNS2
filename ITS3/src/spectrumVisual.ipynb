{
 "cells": [
  {
   "cell_type": "code",
   "execution_count": null,
   "metadata": {},
   "outputs": [],
   "source": [
    "!source $HOME/physics/bin/activate"
   ]
  },
  {
   "cell_type": "code",
   "execution_count": 1,
   "metadata": {},
   "outputs": [
    {
     "name": "stdout",
     "output_type": "stream",
     "text": [
      "Shared objects loaded.\n",
      "Now you can use ROOT in this notebook.\n"
     ]
    }
   ],
   "source": [
    "import sys\n",
    "sys.path.append('../..')\n",
    "from utils.rootLoad import rootLoad\n",
    "rootLoad()"
   ]
  },
  {
   "cell_type": "code",
   "execution_count": 1,
   "metadata": {},
   "outputs": [
    {
     "name": "stdout",
     "output_type": "stream",
     "text": [
      "Welcome to JupyROOT 6.28/06\n"
     ]
    }
   ],
   "source": [
    "from ROOT import TFile, TH1D, TCanvas, TLegend, TLatex, TF1, gStyle, TGraphErrors, TMultiGraph\n",
    "import uproot\n",
    "import pandas as pd\n",
    "import yaml\n"
   ]
  },
  {
   "cell_type": "code",
   "execution_count": 2,
   "metadata": {},
   "outputs": [],
   "source": [
    "inTree = uproot.open('../Data/run175174828_230428174901_preprocessed.root')['PreprocessedData']\n",
    "inPixels = [inTree[f'pixel{i}'].arrays(library='pd') for i in range(16)]\n",
    "innerPixels = [inTree[f'pixel{i}'].arrays(library='pd') for i in [5, 6, 9, 10]]"
   ]
  },
  {
   "cell_type": "code",
   "execution_count": 3,
   "metadata": {},
   "outputs": [],
   "source": [
    "outFile = TFile('../Data/output/spectrumVisual.root', 'recreate')\n",
    "dirAmpl = outFile.mkdir('amplitude')\n",
    "elecAmpl = outFile.mkdir('electrons')"
   ]
  },
  {
   "cell_type": "code",
   "execution_count": null,
   "metadata": {},
   "outputs": [],
   "source": [
    "def amplitudeSpectrumAndFits(inData, outDir, logFile, ipixel):\n",
    "\n",
    "    gStyle.SetOptStat(0)\n",
    "\n",
    "    h = TH1D(f'h_{ipixel}', 'h', 100, 1, 101)\n",
    "    for x in inData['amplitude']:   h.Fill(x)\n",
    "    h.SetFillColorAlpha(797, 0.5)\n",
    "    h.SetLineColor(797)\n",
    "    h.SetFillStyle(3356)\n",
    "    h.SetTitle(f'Pixel {ipixel}; Signal amplitude (mV); Counts')\n",
    "\n",
    "    with open(logFile, 'r') as f:   log = yaml.load(f, Loader=yaml.FullLoader)\n",
    "\n",
    "    kAfit = TF1(f'kAfit_{ipixel}', '[0] * exp(-(x-[1])*(x-[1])/(2*[2]*[2]))', log[f'pixel{ipixel}']['fits'][0]['range'][0], \n",
    "                                                                    log[f'pixel{ipixel}']['fits'][0]['range'][1])\n",
    "    kAfit.SetParameters(log[f'pixel{ipixel}']['fits'][0]['param'][0], \n",
    "                        log[f'pixel{ipixel}']['fits'][0]['param'][1], \n",
    "                        log[f'pixel{ipixel}']['fits'][0]['param'][2])\n",
    "    kAfit.SetLineColor(860)\n",
    "    kAfit.SetLineWidth(2)\n",
    "\n",
    "    kBfit = TF1(f'kBfit_{ipixel}', '[0] * exp(-(x-[1])*(x-[1])/(2*[2]*[2]))', log[f'pixel{ipixel}']['fits'][1]['range'][0], \n",
    "                                                                    log[f'pixel{ipixel}']['fits'][1]['range'][1])\n",
    "    kBfit.SetParameters(log[f'pixel{ipixel}']['fits'][1]['param'][0],\n",
    "                        log[f'pixel{ipixel}']['fits'][1]['param'][1],\n",
    "                        log[f'pixel{ipixel}']['fits'][1]['param'][2])\n",
    "    kBfit.SetLineColor(419)\n",
    "    kBfit.SetLineWidth(2)\n",
    "\n",
    "    h.Fit(kAfit, 'RM+')\n",
    "    print(f'Pixel {ipixel} kAfit: {kAfit.GetChisquare()} / {kAfit.GetNDF()}')\n",
    "    h.Fit(kBfit, 'RM+')\n",
    "    print(f'Pixel {ipixel} kBfit: {kBfit.GetChisquare()} / {kBfit.GetNDF()}')\n",
    "\n",
    "    outDir.cd() \n",
    "    h.Write()\n",
    "    kAfit.Write()\n",
    "    kBfit.Write()\n",
    "\n",
    "    return h, kAfit, kBfit\n"
   ]
  },
  {
   "cell_type": "code",
   "execution_count": null,
   "metadata": {},
   "outputs": [],
   "source": [
    "spectra = []\n",
    "kAfits = []\n",
    "kBfits = []\n",
    "\n",
    "for ipixel, pixel in zip([5, 6, 9, 10], innerPixels):\n",
    "    h, kAfit, kBfit = amplitudeSpectrumAndFits(pixel, dirAmpl, f'../src/config/simpleFitCfg.yml', ipixel)\n",
    "    spectra.append(h)\n",
    "    kAfits.append(kAfit)\n",
    "    kBfits.append(kBfit)"
   ]
  },
  {
   "cell_type": "code",
   "execution_count": null,
   "metadata": {},
   "outputs": [],
   "source": [
    "canvas = TCanvas('canvas', '^{55}Fe spectrum', 800, 600)\n",
    "canvas.Divide(2, 2)\n",
    "legends = []\n",
    "\n",
    "for i, h in enumerate(spectra):\n",
    "    frame = canvas.cd(i+1).DrawFrame(1, 0, 101, 1200, 'Pixel '+str(innerPixels[i]['pixel'][0])+'; Signal amplitude (mV); Counts')\n",
    "    h.Draw('same')\n",
    "    kAfits[i].Draw('same')\n",
    "    kBfits[i].Draw('same')\n",
    "    frame.GetYaxis().SetTitleSize(0.05)\n",
    "    frame.GetYaxis().SetTitleOffset(1.)\n",
    "    frame.GetXaxis().SetTitleSize(0.05)\n",
    "\n",
    "    TLatex().SetTextSize(0.04)\n",
    "    TLatex().SetTextFont(42)\n",
    "    TLatex().DrawLatexNDC(0.2, 0.75, '^{55}Fe acquisition')\n",
    "    TLatex().DrawLatexNDC(0.2, 0.7, 'K_{#alpha} = '+f'({kAfits[i].GetParameter(1):.1f} #pm {kAfits[i].GetParameter(2):.1f}) mV')\n",
    "    TLatex().DrawLatexNDC(0.2, 0.65, 'K_{#beta} = '+f'({kBfits[i].GetParameter(1):.1f} #pm {kBfits[i].GetParameter(2):.1f}) mV')\n",
    "\n",
    "    canvas.cd(i+1)\n",
    "    legend = TLegend(0.2, 0.3, 0.5, 0.6)\n",
    "    legend.SetBorderSize(0)\n",
    "    legend.SetFillStyle(0)\n",
    "    legend.SetTextSize(0.06)\n",
    "    legend.SetTextFont(42)\n",
    "\n",
    "    legend.AddEntry(h, 'Data', 'f')\n",
    "    legend.AddEntry(kAfits[i], 'K_{#alpha} fit', 'l')\n",
    "    legend.AddEntry(kBfits[i], 'K_{#beta} fit', 'l')\n",
    "    \n",
    "    legends.append(legend)\n",
    "    legends[i].Draw()\n",
    "\n",
    "\n",
    "canvas.SaveAs('../Data/output/spectrumVisual.pdf')"
   ]
  },
  {
   "cell_type": "code",
   "execution_count": 4,
   "metadata": {},
   "outputs": [
    {
     "name": "stderr",
     "output_type": "stream",
     "text": [
      "Info in <TCanvas::Print>: pdf file ../Data/output/calibrationVisual.pdf has been created\n"
     ]
    }
   ],
   "source": [
    "canvas = TCanvas('canvas', 'Calibration curve', 800, 600)\n",
    "\n",
    "graphs = []\n",
    "fits = []\n",
    "legends = []\n",
    "colors = [860, 419, 797, 633]\n",
    "\n",
    "inFile = TFile.Open('../Data/output/calibrationOutput.root')\n",
    "\n",
    "for i, ipixel in enumerate([5, 6, 9, 10]):\n",
    "\n",
    "    graph = inFile.Get(f'calibrationPx{ipixel}')\n",
    "    fit = graph.GetFunction(f'calibrationPx{ipixel}Fit')\n",
    "    #fit = inFile.Get(f'calibrationPx{ipixel}Fit')\n",
    "\n",
    "    graph.SetMarkerStyle(20)\n",
    "    #graph.SetMarkerSize(1.)\n",
    "    graph.SetMarkerColor(colors[i]-1)\n",
    "    graph.SetTitle(f'Pixel {innerPixels[i][\"pixel\"][0]}; Energy (keV); Amplitude (mV)')\n",
    "    graph.SetLineColor(colors[i]-1)\n",
    "\n",
    "    fit.SetLineColor(colors[i])\n",
    "    fit.SetLineWidth(2)\n",
    "\n",
    "    graphs.append(graph)\n",
    "    fits.append(fit)\n",
    "\n",
    "canvas.cd()\n",
    "\n",
    "mg = TMultiGraph()\n",
    "mg.SetTitle('Energy calibration; Energy (keV); Amplitude (mV)')\n",
    "for graph in graphs:    mg.Add(graph)\n",
    "mg.Draw('AP')\n",
    "for fit in fits:    fit.Draw('same')\n",
    "\n",
    "legend = TLegend(0.2, 0.5, 0.5, 0.75)\n",
    "legend.SetBorderSize(0)\n",
    "legend.SetFillStyle(0)\n",
    "legend.SetTextSize(0.04)\n",
    "legend.SetTextFont(42)\n",
    "\n",
    "for i, graph in enumerate(graphs):    legend.AddEntry(graph, f'Pixel {innerPixels[i][\"pixel\"][0]}', 'pl')\n",
    "\n",
    "legend.Draw('same')\n",
    "\n",
    "canvas.SaveAs('../Data/output/calibrationVisual.pdf')"
   ]
  },
  {
   "cell_type": "code",
   "execution_count": null,
   "metadata": {},
   "outputs": [],
   "source": []
  }
 ],
 "metadata": {
  "kernelspec": {
   "display_name": "physics",
   "language": "python",
   "name": "physics"
  },
  "language_info": {
   "codemirror_mode": {
    "name": "ipython",
    "version": 3
   },
   "file_extension": ".py",
   "mimetype": "text/x-python",
   "name": "python",
   "nbconvert_exporter": "python",
   "pygments_lexer": "ipython3",
   "version": "3.11.6"
  }
 },
 "nbformat": 4,
 "nbformat_minor": 2
}
