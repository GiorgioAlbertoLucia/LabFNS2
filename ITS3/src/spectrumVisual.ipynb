{
 "cells": [
  {
   "cell_type": "code",
   "execution_count": null,
   "metadata": {},
   "outputs": [],
   "source": [
    "!source $HOME/physics/bin/activate"
   ]
  },
  {
   "cell_type": "code",
   "execution_count": 2,
   "metadata": {},
   "outputs": [
    {
     "name": "stdout",
     "output_type": "stream",
     "text": [
      "Shared objects loaded.\n",
      "Now you can use ROOT in this notebook.\n"
     ]
    }
   ],
   "source": [
    "import sys\n",
    "sys.path.append('../..')\n",
    "from utils.rootLoad import rootLoad\n",
    "rootLoad()"
   ]
  },
  {
   "cell_type": "code",
   "execution_count": 2,
   "metadata": {},
   "outputs": [
    {
     "name": "stdout",
     "output_type": "stream",
     "text": [
      "Welcome to JupyROOT 6.28/06\n"
     ]
    }
   ],
   "source": [
    "from ROOT import TFile, TH1D, TCanvas, TLegend, TLatex, TF1, gStyle, TGraphErrors, TMultiGraph\n",
    "import uproot\n",
    "import pandas as pd\n",
    "import yaml\n"
   ]
  },
  {
   "cell_type": "code",
   "execution_count": 3,
   "metadata": {},
   "outputs": [],
   "source": [
    "inTree = uproot.open('../Data/run175174828_230428174901_preprocessed.root')['PreprocessedData']\n",
    "inPixels = [inTree[f'pixel{i}'].arrays(library='pd') for i in range(16)]\n",
    "innerPixels = [inTree[f'pixel{i}'].arrays(library='pd') for i in [5, 6, 9, 10]]"
   ]
  },
  {
   "cell_type": "code",
   "execution_count": 4,
   "metadata": {},
   "outputs": [],
   "source": [
    "outFile = TFile('../Data/output/spectrumVisual.root', 'recreate')\n",
    "dirAmpl = outFile.mkdir('amplitude')\n",
    "elecAmpl = outFile.mkdir('electrons')"
   ]
  },
  {
   "cell_type": "code",
   "execution_count": 5,
   "metadata": {},
   "outputs": [],
   "source": [
    "def amplitudeSpectrumAndFits(inData, outDir, logFile, ipixel):\n",
    "\n",
    "    gStyle.SetOptStat(0)\n",
    "\n",
    "    h = TH1D(f'h_{ipixel}', 'h', 100, 1, 101)\n",
    "    for x in inData['amplitude']:   h.Fill(x)\n",
    "    h.SetFillColorAlpha(797, 0.5)\n",
    "    h.SetLineColor(797)\n",
    "    h.SetFillStyle(3356)\n",
    "    h.SetTitle(f'Pixel {ipixel}; Signal amplitude (mV); Counts')\n",
    "\n",
    "    with open(logFile, 'r') as f:   log = yaml.load(f, Loader=yaml.FullLoader)\n",
    "\n",
    "    kAfit = TF1(f'kAfit_{ipixel}', '[0] * exp(-(x-[1])*(x-[1])/(2*[2]*[2]))', log[f'pixel{ipixel}']['fits'][0]['range'][0], \n",
    "                                                                    log[f'pixel{ipixel}']['fits'][0]['range'][1])\n",
    "    kAfit.SetParameters(log[f'pixel{ipixel}']['fits'][0]['param'][0], \n",
    "                        log[f'pixel{ipixel}']['fits'][0]['param'][1], \n",
    "                        log[f'pixel{ipixel}']['fits'][0]['param'][2])\n",
    "    kAfit.SetLineColor(860)\n",
    "    kAfit.SetLineWidth(2)\n",
    "\n",
    "    kBfit = TF1(f'kBfit_{ipixel}', '[0] * exp(-(x-[1])*(x-[1])/(2*[2]*[2]))', log[f'pixel{ipixel}']['fits'][1]['range'][0], \n",
    "                                                                    log[f'pixel{ipixel}']['fits'][1]['range'][1])\n",
    "    kBfit.SetParameters(log[f'pixel{ipixel}']['fits'][1]['param'][0],\n",
    "                        log[f'pixel{ipixel}']['fits'][1]['param'][1],\n",
    "                        log[f'pixel{ipixel}']['fits'][1]['param'][2])\n",
    "    kBfit.SetLineColor(419)\n",
    "    kBfit.SetLineWidth(2)\n",
    "\n",
    "    h.Fit(kAfit, 'RM+')\n",
    "    print(f'Pixel {ipixel} kAfit: {kAfit.GetChisquare()} / {kAfit.GetNDF()}')\n",
    "    h.Fit(kBfit, 'RM+')\n",
    "    print(f'Pixel {ipixel} kBfit: {kBfit.GetChisquare()} / {kBfit.GetNDF()}')\n",
    "\n",
    "    outDir.cd() \n",
    "    h.Write()\n",
    "    kAfit.Write()\n",
    "    kBfit.Write()\n",
    "\n",
    "    return h, kAfit, kBfit\n"
   ]
  },
  {
   "cell_type": "code",
   "execution_count": 6,
   "metadata": {},
   "outputs": [
    {
     "name": "stdout",
     "output_type": "stream",
     "text": [
      "Pixel 5 kAfit: 19.095126952648403 / 2\n",
      "Pixel 5 kBfit: 31.644886991425473 / 3\n",
      "Pixel 6 kAfit: 12.172128693090807 / 2\n",
      "Pixel 6 kBfit: 27.095209023473544 / 2\n",
      "Pixel 9 kAfit: 8.906797598715793 / 2\n",
      "Pixel 9 kBfit: 31.623889667077588 / 3\n",
      "Pixel 10 kAfit: 25.175636291299167 / 2\n",
      "Pixel 10 kBfit: 28.99315904959549 / 3\n",
      " FCN=19.0951 FROM HESSE     STATUS=OK             16 CALLS          97 TOTAL\n",
      "                     EDM=2.03848e-09    STRATEGY= 1      ERROR MATRIX ACCURATE \n",
      "  EXT PARAMETER                                   STEP         FIRST   \n",
      "  NO.   NAME      VALUE            ERROR          SIZE      DERIVATIVE \n",
      "   1  p0           1.20266e+03   3.10702e+01   5.27454e-02  -1.24840e-06\n",
      "   2  p1           7.06358e+01   1.86923e-02   3.92187e-05  -3.13663e-03\n",
      "   3  p2           8.42755e-01   1.57419e-02   2.58932e-05  -3.45795e-03\n",
      " FCN=31.6449 FROM HESSE     STATUS=OK             16 CALLS         118 TOTAL\n",
      "                     EDM=6.6763e-07    STRATEGY= 1      ERROR MATRIX ACCURATE \n",
      "  EXT PARAMETER                                   STEP         FIRST   \n",
      "  NO.   NAME      VALUE            ERROR          SIZE      DERIVATIVE \n",
      "   1  p0           1.27773e+02   1.05521e+01   4.13978e-03  -1.35525e-04\n",
      "   2  p1           7.74241e+01   7.28987e-02   3.03977e-05  -8.86862e-03\n",
      "   3  p2           9.30162e-01   5.54875e-02   1.84729e-05  -2.07586e-02\n",
      " FCN=12.1721 FROM HESSE     STATUS=OK             16 CALLS         114 TOTAL\n",
      "                     EDM=5.64562e-08    STRATEGY= 1      ERROR MATRIX ACCURATE \n",
      "  EXT PARAMETER                                   STEP         FIRST   \n",
      "  NO.   NAME      VALUE            ERROR          SIZE      DERIVATIVE \n",
      "   1  p0           1.23782e+03   3.15323e+01   8.73117e-03  -9.49256e-06\n",
      "   2  p1           7.36646e+01   1.79526e-02   1.75630e-05  -1.40368e-02\n",
      "   3  p2           8.26992e-01   1.47766e-02   3.98516e-06  -1.27453e-02\n",
      " FCN=27.0952 FROM HESSE     STATUS=OK             16 CALLS         131 TOTAL\n",
      "                     EDM=5.06148e-07    STRATEGY= 1      ERROR MATRIX ACCURATE \n",
      "  EXT PARAMETER                                   STEP         FIRST   \n",
      "  NO.   NAME      VALUE            ERROR          SIZE      DERIVATIVE \n",
      "   1  p0           1.28013e+02   1.06896e+01   3.94791e-03   8.78645e-05\n",
      "   2  p1           8.05326e+01   7.21506e-02   2.75701e-05   1.25708e-02\n",
      "   3  p2           8.81016e-01   5.30971e-02   1.64253e-05   3.02800e-02\n",
      " FCN=8.9068 FROM HESSE     STATUS=OK             16 CALLS         100 TOTAL\n",
      "                     EDM=2.80843e-09    STRATEGY= 1      ERROR MATRIX ACCURATE \n",
      "  EXT PARAMETER                                   STEP         FIRST   \n",
      "  NO.   NAME      VALUE            ERROR          SIZE      DERIVATIVE \n",
      "   1  p0           1.21943e+03   3.07454e+01   3.65783e-02   2.31306e-06\n",
      "   2  p1           7.08308e+01   1.81919e-02   3.37748e-05  -9.80510e-04\n",
      "   3  p2           8.70171e-01   1.53084e-02   1.78887e-05  -3.82674e-04\n",
      " FCN=31.6239 FROM HESSE     STATUS=OK             16 CALLS         123 TOTAL\n",
      "                     EDM=1.33441e-08    STRATEGY= 1      ERROR MATRIX ACCURATE \n",
      "  EXT PARAMETER                                   STEP         FIRST   \n",
      "  NO.   NAME      VALUE            ERROR          SIZE      DERIVATIVE \n",
      "   1  p0           1.25942e+02   1.09016e+01   3.93115e-03  -3.91685e-06\n",
      "   2  p1           7.78588e+01   6.54925e-02   3.36206e-05   2.52778e-03\n",
      "   3  p2           1.02711e+00   7.34418e-02   2.57587e-05   1.18281e-03\n",
      " FCN=25.1756 FROM HESSE     STATUS=OK             16 CALLS         102 TOTAL\n",
      "                     EDM=6.72993e-07    STRATEGY= 1      ERROR MATRIX ACCURATE \n",
      "  EXT PARAMETER                                   STEP         FIRST   \n",
      "  NO.   NAME      VALUE            ERROR          SIZE      DERIVATIVE \n",
      "   1  p0           1.16222e+03   3.21601e+01   6.06385e-02  -4.16928e-06\n",
      "   2  p1           7.52205e+01   2.37805e-02   4.94767e-05  -4.65538e-02\n",
      "   3  p2           8.35556e-01   2.13761e-02   3.50746e-05   9.55285e-04\n",
      " FCN=28.9932 FROM HESSE     STATUS=OK             16 CALLS         114 TOTAL\n",
      "                     EDM=1.70696e-08    STRATEGY= 1      ERROR MATRIX ACCURATE \n",
      "  EXT PARAMETER                                   STEP         FIRST   \n",
      "  NO.   NAME      VALUE            ERROR          SIZE      DERIVATIVE \n",
      "   1  p0           1.25305e+02   9.89298e+00   1.98481e-02  -2.09707e-06\n",
      "   2  p1           8.19376e+01   7.11256e-02   1.44368e-04  -1.76867e-04\n",
      "   3  p2           9.07887e-01   4.77575e-02   8.05625e-05  -4.30867e-03\n"
     ]
    },
    {
     "name": "stderr",
     "output_type": "stream",
     "text": [
      "Info in <TCanvas::MakeDefCanvas>:  created default TCanvas with name c1\n"
     ]
    }
   ],
   "source": [
    "spectra = []\n",
    "kAfits = []\n",
    "kBfits = []\n",
    "\n",
    "for ipixel, pixel in zip([5, 6, 9, 10], innerPixels):\n",
    "    h, kAfit, kBfit = amplitudeSpectrumAndFits(pixel, dirAmpl, f'../src/config/simpleFitCfg.yml', ipixel)\n",
    "    spectra.append(h)\n",
    "    kAfits.append(kAfit)\n",
    "    kBfits.append(kBfit)"
   ]
  },
  {
   "cell_type": "code",
   "execution_count": 7,
   "metadata": {},
   "outputs": [
    {
     "name": "stderr",
     "output_type": "stream",
     "text": [
      "Info in <TCanvas::Print>: pdf file ../Data/output/spectrumVisual.pdf has been created\n"
     ]
    }
   ],
   "source": [
    "canvas = TCanvas('canvas', '^{55}Fe spectrum', 800, 600)\n",
    "canvas.Divide(2, 2)\n",
    "legends = []\n",
    "\n",
    "for i, h in enumerate(spectra):\n",
    "    frame = canvas.cd(i+1).DrawFrame(1, 0, 101, 1200, 'Pixel '+str(innerPixels[i]['pixel'][0])+'; Signal amplitude (mV); Counts')\n",
    "    h.Draw('same')\n",
    "    kAfits[i].Draw('same')\n",
    "    kBfits[i].Draw('same')\n",
    "    frame.GetYaxis().SetTitleSize(0.05)\n",
    "    frame.GetYaxis().SetTitleOffset(1.)\n",
    "    frame.GetXaxis().SetTitleSize(0.05)\n",
    "\n",
    "    TLatex().SetTextSize(0.04)\n",
    "    TLatex().SetTextFont(42)\n",
    "    TLatex().DrawLatexNDC(0.2, 0.75, '^{55}Fe acquisition')\n",
    "    TLatex().DrawLatexNDC(0.2, 0.7, 'K_{#alpha} = '+f'({kAfits[i].GetParameter(1):.1f} #pm {kAfits[i].GetParameter(2):.1f}) mV')\n",
    "    TLatex().DrawLatexNDC(0.2, 0.65, 'K_{#beta} = '+f'({kBfits[i].GetParameter(1):.1f} #pm {kBfits[i].GetParameter(2):.1f}) mV')\n",
    "\n",
    "    canvas.cd(i+1)\n",
    "    legend = TLegend(0.2, 0.3, 0.5, 0.6)\n",
    "    legend.SetBorderSize(0)\n",
    "    legend.SetFillStyle(0)\n",
    "    legend.SetTextSize(0.06)\n",
    "    legend.SetTextFont(42)\n",
    "\n",
    "    legend.AddEntry(h, 'Data', 'f')\n",
    "    legend.AddEntry(kAfits[i], 'K_{#alpha} fit', 'l')\n",
    "    legend.AddEntry(kBfits[i], 'K_{#beta} fit', 'l')\n",
    "    \n",
    "    legends.append(legend)\n",
    "    legends[i].Draw()\n",
    "\n",
    "\n",
    "canvas.SaveAs('../Data/output/spectrumVisual.pdf')"
   ]
  },
  {
   "cell_type": "code",
   "execution_count": 8,
   "metadata": {},
   "outputs": [
    {
     "name": "stderr",
     "output_type": "stream",
     "text": [
      "Warning in <TCanvas::Constructor>: Deleting canvas with same name: canvas\n",
      "Info in <TCanvas::Print>: pdf file ../Data/output/calibrationVisual.pdf has been created\n"
     ]
    }
   ],
   "source": [
    "canvas = TCanvas('canvas', 'Calibration curve', 800, 600)\n",
    "\n",
    "graphs = []\n",
    "fits = []\n",
    "legends = []\n",
    "colors = [860, 419, 797, 633]\n",
    "\n",
    "inFile = TFile.Open('../Data/output/calibrationOutput.root')\n",
    "\n",
    "for i, ipixel in enumerate([5, 6, 9, 10]):\n",
    "\n",
    "    graph = inFile.Get(f'calibrationPx{ipixel}')\n",
    "    fit = graph.GetFunction(f'calibrationPx{ipixel}Fit')\n",
    "    #fit = inFile.Get(f'calibrationPx{ipixel}Fit')\n",
    "\n",
    "    graph.SetMarkerStyle(20)\n",
    "    #graph.SetMarkerSize(1.)\n",
    "    graph.SetMarkerColor(colors[i]-1)\n",
    "    graph.SetTitle(f'Pixel {innerPixels[i][\"pixel\"][0]}; Energy (keV); Amplitude (mV)')\n",
    "    graph.SetLineColor(colors[i]-1)\n",
    "\n",
    "    fit.SetLineColor(colors[i])\n",
    "    fit.SetLineWidth(2)\n",
    "\n",
    "    graphs.append(graph)\n",
    "    fits.append(fit)\n",
    "\n",
    "canvas.cd()\n",
    "\n",
    "mg = TMultiGraph()\n",
    "mg.SetTitle('Energy calibration; Energy (keV); Amplitude (mV)')\n",
    "for graph in graphs:    mg.Add(graph)\n",
    "mg.Draw('AP')\n",
    "for fit in fits:    fit.Draw('same')\n",
    "\n",
    "legend = TLegend(0.2, 0.5, 0.5, 0.75)\n",
    "legend.SetBorderSize(0)\n",
    "legend.SetFillStyle(0)\n",
    "legend.SetTextSize(0.04)\n",
    "legend.SetTextFont(42)\n",
    "\n",
    "for i, graph in enumerate(graphs):    legend.AddEntry(graph, f'Pixel {innerPixels[i][\"pixel\"][0]}', 'pl')\n",
    "\n",
    "legend.Draw('same')\n",
    "\n",
    "canvas.SaveAs('../Data/output/calibrationVisual.pdf')"
   ]
  },
  {
   "cell_type": "code",
   "execution_count": 9,
   "metadata": {},
   "outputs": [
    {
     "name": "stderr",
     "output_type": "stream",
     "text": [
      "Warning in <TCanvas::Constructor>: Deleting canvas with same name: canvas\n",
      "Info in <TCanvas::Print>: pdf file ../Data/output/calibrationChargeVisual.pdf has been created\n"
     ]
    }
   ],
   "source": [
    "canvas = TCanvas('canvas', 'Calibration curve', 800, 600)\n",
    "\n",
    "graphs = []\n",
    "fits = []\n",
    "legends = []\n",
    "colors = [860, 419, 797, 633]\n",
    "\n",
    "inFile = TFile.Open('../Data/output/calibrationOutput.root')\n",
    "\n",
    "for i, ipixel in enumerate([5, 6, 9, 10]):\n",
    "\n",
    "    graph = inFile.Get(f'calibrationPx{ipixel}Electrons')\n",
    "    fit = graph.GetFunction(f'calibrationPx{ipixel}FitElectrons')\n",
    "    #fit = inFile.Get(f'calibrationPx{ipixel}Fit')\n",
    "\n",
    "    graph.SetMarkerStyle(20)\n",
    "    #graph.SetMarkerSize(1.)\n",
    "    graph.SetMarkerColor(colors[i]-1)\n",
    "    graph.SetTitle(f'Pixel {innerPixels[i][\"pixel\"][0]}; Charge (e); Amplitude (mV)')\n",
    "    graph.SetLineColor(colors[i]-1)\n",
    "\n",
    "    fit.SetLineColor(colors[i])\n",
    "    fit.SetLineWidth(2)\n",
    "\n",
    "    graphs.append(graph)\n",
    "    fits.append(fit)\n",
    "\n",
    "canvas.cd()\n",
    "\n",
    "mg = TMultiGraph()\n",
    "mg.SetTitle('Charge calibration; Charge (e); Amplitude (mV)')\n",
    "for graph in graphs:    mg.Add(graph)\n",
    "mg.Draw('AP')\n",
    "for fit in fits:    fit.Draw('same')\n",
    "\n",
    "legend = TLegend(0.2, 0.5, 0.5, 0.75)\n",
    "legend.SetBorderSize(0)\n",
    "legend.SetFillStyle(0)\n",
    "legend.SetTextSize(0.04)\n",
    "legend.SetTextFont(42)\n",
    "\n",
    "for i, graph in enumerate(graphs):    legend.AddEntry(graph, f'Pixel {innerPixels[i][\"pixel\"][0]}', 'pl')\n",
    "\n",
    "legend.Draw('same')\n",
    "\n",
    "canvas.SaveAs('../Data/output/calibrationChargeVisual.pdf')"
   ]
  },
  {
   "cell_type": "code",
   "execution_count": 23,
   "metadata": {},
   "outputs": [
    {
     "name": "stderr",
     "output_type": "stream",
     "text": [
      "Warning in <TCanvas::Constructor>: Deleting canvas with same name: canvas\n",
      "Info in <TCanvas::Print>: pdf file ../Data/output/spectrumSeedFullVisual.pdf has been created\n"
     ]
    }
   ],
   "source": [
    "inFile = TFile.Open('../Data/output/spectralAnalysisOutput.root')\n",
    "gStyle.SetOptStat(0)\n",
    "gStyle.SetOptFit(0)\n",
    "\n",
    "canvas = TCanvas('canvas', '', 800, 600)\n",
    "spectrum = inFile.Get('spectrumSeedFull')\n",
    "\n",
    "spectrum.SetTitle('^{55}Fe spectrum - seed; Seed Amplitude (e); Counts')\n",
    "spectrum.SetLineColor(797)\n",
    "spectrum.SetFillColorAlpha(797, 0.5)\n",
    "spectrum.SetFillStyle(3356)\n",
    "\n",
    "canvas.cd()\n",
    "spectrum.Draw('hist')\n",
    "\n",
    "latex = TLatex()\n",
    "latex.SetTextSize(0.04)\n",
    "latex.SetTextFont(42)\n",
    "latex.DrawLatexNDC(0.2, 0.8, '^{55}Fe acquisition')\n",
    "\n",
    "\n",
    "canvas.SaveAs('../Data/output/spectrumSeedFullVisual.pdf')"
   ]
  },
  {
   "cell_type": "code",
   "execution_count": 24,
   "metadata": {},
   "outputs": [
    {
     "name": "stderr",
     "output_type": "stream",
     "text": [
      "Warning in <TCanvas::Constructor>: Deleting canvas with same name: canvas\n",
      "Info in <TCanvas::Print>: pdf file ../Data/output/spectrumSeedVisual.pdf has been created\n"
     ]
    }
   ],
   "source": [
    "inFile = TFile.Open('../Data/output/spectralAnalysisOutput.root')\n",
    "gStyle.SetOptStat(0)\n",
    "gStyle.SetOptFit(0)\n",
    "\n",
    "canvas = TCanvas('canvas', '', 800, 600)\n",
    "spectrum = inFile.Get('spectrumSeed')\n",
    "\n",
    "spectrum.SetTitle('^{55}Fe spectrum - seed; Seed Amplitude (e); Counts')\n",
    "spectrum.SetLineColor(797)\n",
    "spectrum.SetFillColorAlpha(797, 0.5)\n",
    "spectrum.SetFillStyle(3356)\n",
    "\n",
    "SiEscFit = spectrum.GetFunction('Si-escape')\n",
    "SiEscFit.SetLineColor(633)\n",
    "\n",
    "kAfit = spectrum.GetFunction('K-alpha')\n",
    "kAfit.SetLineColor(860)\n",
    "\n",
    "kBfit = spectrum.GetFunction('K-beta')\n",
    "kBfit.SetLineColor(419)\n",
    "\n",
    "legend = TLegend(0.2, 0.32, 0.5, 0.57)\n",
    "legend.SetBorderSize(0)\n",
    "legend.SetFillStyle(0)\n",
    "legend.SetTextSize(0.04)\n",
    "legend.SetTextFont(42)\n",
    "legend.AddEntry(spectrum, 'Data', 'f')\n",
    "legend.AddEntry(SiEscFit, 'Si-escape', 'l')\n",
    "legend.AddEntry(kAfit, 'K_{#alpha}', 'l')\n",
    "legend.AddEntry(kBfit, 'K_{#beta}', 'l')\n",
    "\n",
    "canvas.cd()\n",
    "spectrum.Draw('hist')\n",
    "kAfit.Draw('same')\n",
    "kBfit.Draw('same')\n",
    "SiEscFit.Draw('same')\n",
    "\n",
    "legend.Draw('same')\n",
    "\n",
    "latex = TLatex()\n",
    "latex.SetTextSize(0.04)\n",
    "latex.SetTextFont(42)\n",
    "latex.DrawLatexNDC(0.2, 0.8, '^{55}Fe acquisition')\n",
    "latex.DrawLatexNDC(0.2, 0.75, 'Fall time < 200 ps and cluster size = 1')    \n",
    "latex.DrawLatexNDC(0.2, 0.7, 'Si-escape = '+f'({SiEscFit.GetParameter(1)*3.6/1000:.2f} #pm {SiEscFit.GetParameter(2)*3.6/1000:.2f}) keV')\n",
    "latex.DrawLatexNDC(0.2, 0.65, 'K_{#alpha} = '+f'({kAfit.GetParameter(1)*3.6/1000:.2f} #pm {kAfit.GetParameter(2)*3.6/1000:.2f}) keV')\n",
    "latex.DrawLatexNDC(0.2, 0.6, 'K_{#beta} = '+f'({kBfit.GetParameter(1)*3.6/1000:.2f} #pm {kBfit.GetParameter(2)*3.6/1000:.2f}) keV')\n",
    "\n",
    "\n",
    "canvas.SaveAs('../Data/output/spectrumSeedVisual.pdf')"
   ]
  },
  {
   "cell_type": "code",
   "execution_count": 25,
   "metadata": {},
   "outputs": [
    {
     "name": "stderr",
     "output_type": "stream",
     "text": [
      "Warning in <TCanvas::Constructor>: Deleting canvas with same name: canvas\n",
      "Info in <TCanvas::Print>: pdf file ../Data/output/spectrumClusterVisual.pdf has been created\n"
     ]
    }
   ],
   "source": [
    "inFile = TFile.Open('../Data/output/spectralAnalysisOutput.root')\n",
    "gStyle.SetOptStat(0)\n",
    "gStyle.SetOptFit(0)\n",
    "\n",
    "canvas = TCanvas('canvas', '', 800, 600)\n",
    "spectrum = inFile.Get('spectrumCluster')\n",
    "\n",
    "spectrum.SetTitle('^{55}Fe spectrum - cluster; Cluster Amplitude (e); Counts')\n",
    "spectrum.SetLineColor(797)\n",
    "spectrum.SetFillColorAlpha(797, 0.5)\n",
    "spectrum.SetFillStyle(3356)\n",
    "\n",
    "SiEscFit = spectrum.GetFunction('Si-escape')\n",
    "SiEscFit.SetLineColor(633)\n",
    "\n",
    "kAfit = spectrum.GetFunction('K-alpha')\n",
    "kAfit.SetLineColor(860)\n",
    "\n",
    "kBfit = spectrum.GetFunction('K-beta')\n",
    "kBfit.SetLineColor(419)\n",
    "\n",
    "legend = TLegend(0.2, 0.32, 0.5, 0.57)\n",
    "legend.SetBorderSize(0)\n",
    "legend.SetFillStyle(0)\n",
    "legend.SetTextSize(0.04)\n",
    "legend.SetTextFont(42)\n",
    "legend.AddEntry(spectrum, 'Data', 'f')\n",
    "legend.AddEntry(SiEscFit, 'Si-escape', 'l')\n",
    "legend.AddEntry(kAfit, 'K_{#alpha}', 'l')\n",
    "legend.AddEntry(kBfit, 'K_{#beta}', 'l')\n",
    "\n",
    "canvas.cd()\n",
    "spectrum.Draw('hist')\n",
    "kAfit.Draw('same')\n",
    "kBfit.Draw('same')\n",
    "SiEscFit.Draw('same')\n",
    "\n",
    "legend.Draw('same')\n",
    "\n",
    "latex = TLatex()\n",
    "latex.SetTextSize(0.04)\n",
    "latex.SetTextFont(42)\n",
    "latex.DrawLatexNDC(0.2, 0.8, '^{55}Fe acquisition')\n",
    "latex.DrawLatexNDC(0.2, 0.75, 'Fall time < 200 ps and cluster size <= 2')\n",
    "latex.DrawLatexNDC(0.2, 0.7, 'Si-escape = '+f'({SiEscFit.GetParameter(1)*3.6/1000:.2f} #pm {SiEscFit.GetParameter(2)*3.6/1000:.2f}) keV')\n",
    "latex.DrawLatexNDC(0.2, 0.65, 'K_{#alpha} = '+f'({kAfit.GetParameter(1)*3.6/1000:.2f} #pm {kAfit.GetParameter(2)*3.6/1000:.2f}) keV')\n",
    "latex.DrawLatexNDC(0.2, 0.6, 'K_{#beta} = '+f'({kBfit.GetParameter(1)*3.6/1000:.2f} #pm {kBfit.GetParameter(2)*3.6/1000:.2f}) keV')\n",
    "\n",
    "\n",
    "canvas.SaveAs('../Data/output/spectrumClusterVisual.pdf')"
   ]
  },
  {
   "cell_type": "code",
   "execution_count": null,
   "metadata": {},
   "outputs": [],
   "source": []
  }
 ],
 "metadata": {
  "kernelspec": {
   "display_name": "physics",
   "language": "python",
   "name": "physics"
  },
  "language_info": {
   "codemirror_mode": {
    "name": "ipython",
    "version": 3
   },
   "file_extension": ".py",
   "mimetype": "text/x-python",
   "name": "python",
   "nbconvert_exporter": "python",
   "pygments_lexer": "ipython3",
   "version": "3.11.6"
  }
 },
 "nbformat": 4,
 "nbformat_minor": 2
}
