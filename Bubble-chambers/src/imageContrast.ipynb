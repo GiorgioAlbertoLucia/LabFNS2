{
 "cells": [
  {
   "cell_type": "code",
   "execution_count": 3,
   "metadata": {},
   "outputs": [],
   "source": [
    "import numpy as np\n",
    "from PIL import Image, ImageEnhance, ImageOps, ImageFilter"
   ]
  },
  {
   "cell_type": "code",
   "execution_count": 4,
   "metadata": {},
   "outputs": [],
   "source": [
    "def SaveNegative(inImagePath, outImagePath):\n",
    "    image = Image.open(inImagePath)\n",
    "\n",
    "    # Invert the colors of the image\n",
    "    image = Image.eval(image, lambda x: 255 - x)\n",
    "    image.save(outImagePath)"
   ]
  },
  {
   "cell_type": "code",
   "execution_count": 6,
   "metadata": {},
   "outputs": [],
   "source": [
    "inImagePath = '../Data/Figures/file035.tif'\n",
    "outImagePath = '../Data/Figures/file035_negative.tif'\n",
    "\n",
    "SaveNegative(inImagePath, outImagePath)"
   ]
  },
  {
   "cell_type": "code",
   "execution_count": 45,
   "metadata": {},
   "outputs": [],
   "source": [
    "#image = image.convert(\"L\")\n",
    "#image = image.filter(ImageFilter.GaussianBlur(radius=2))  # Optional: Apply Gaussian blur for smoothing\n",
    "#image = Image.eval(image, lambda x: 255 if x < image.getpixel((x, 0))*0.5 else 0)\n",
    "#image.save(\"file039_threshold.tif\")\n"
   ]
  },
  {
   "cell_type": "code",
   "execution_count": null,
   "metadata": {},
   "outputs": [],
   "source": []
  },
  {
   "cell_type": "code",
   "execution_count": null,
   "metadata": {},
   "outputs": [],
   "source": []
  }
 ],
 "metadata": {
  "kernelspec": {
   "display_name": "physics",
   "language": "python",
   "name": "physics"
  },
  "language_info": {
   "codemirror_mode": {
    "name": "ipython",
    "version": 3
   },
   "file_extension": ".py",
   "mimetype": "text/x-python",
   "name": "python",
   "nbconvert_exporter": "python",
   "pygments_lexer": "ipython3",
   "version": "3.11.6"
  }
 },
 "nbformat": 4,
 "nbformat_minor": 2
}
